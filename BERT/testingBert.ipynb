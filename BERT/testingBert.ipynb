{
 "cells": [
  {
   "cell_type": "code",
   "execution_count": 5,
   "metadata": {},
   "outputs": [],
   "source": [
    "import tensorflow_hub as hub\n",
    "import tensorflow_text as text\n",
    "import json"
   ]
  },
  {
   "cell_type": "code",
   "execution_count": 3,
   "metadata": {},
   "outputs": [],
   "source": [
    "encoder_url = 'https://tfhub.dev/tensorflow/bert_en_uncased_L-12_H-768_A-12/4'\n",
    "preprocessing_url = 'https://tfhub.dev/tensorflow/bert_en_uncased_preprocess/3'"
   ]
  },
  {
   "cell_type": "code",
   "execution_count": 9,
   "metadata": {},
   "outputs": [],
   "source": [
    "preprocessing_model = hub.KerasLayer(preprocessing_url)\n",
    "bert_model = hub.KerasLayer(encoder_url)\n",
    "\n",
    "with open('cleaned_testjson.json', 'r') as file:\n",
    "    data = json.load(file)\n",
    "\n",
    "\n",
    "batch_of_strings = []\n",
    "for item in data:\n",
    "    for review in item['reviews']:\n",
    "        batch_of_strings.append(review['text'])\n",
    "\n",
    "\n",
    "preprocessed_text = preprocessing_model(batch_of_strings)"
   ]
  },
  {
   "cell_type": "code",
   "execution_count": 16,
   "metadata": {},
   "outputs": [
    {
     "data": {
      "text/plain": [
       "<tf.Tensor: shape=(3, 768), dtype=float32, numpy=\n",
       "array([[-0.6878747 , -0.37442052, -0.9131993 , ..., -0.88510525,\n",
       "        -0.595984  ,  0.7789842 ],\n",
       "       [-0.73886454, -0.42696717, -0.9004264 , ..., -0.88210267,\n",
       "        -0.6820856 ,  0.8201029 ],\n",
       "       [-0.6874014 , -0.3408038 , -0.936135  , ..., -0.9135432 ,\n",
       "        -0.6147552 ,  0.79055405]], dtype=float32)>"
      ]
     },
     "execution_count": 16,
     "metadata": {},
     "output_type": "execute_result"
    }
   ],
   "source": [
    "preprocessed_text.keys()\n",
    "preprocessed_text['input_word_ids']\n",
    "\n",
    "bert_results = bert_model(preprocessed_text)\n",
    "bert_results.keys()\n",
    "\n",
    "bert_results['pooled_output']"
   ]
  },
  {
   "cell_type": "code",
   "execution_count": null,
   "metadata": {},
   "outputs": [],
   "source": []
  }
 ],
 "metadata": {
  "kernelspec": {
   "display_name": "Python 3",
   "language": "python",
   "name": "python3"
  },
  "language_info": {
   "codemirror_mode": {
    "name": "ipython",
    "version": 3
   },
   "file_extension": ".py",
   "mimetype": "text/x-python",
   "name": "python",
   "nbconvert_exporter": "python",
   "pygments_lexer": "ipython3",
   "version": "3.11.4"
  },
  "orig_nbformat": 4
 },
 "nbformat": 4,
 "nbformat_minor": 2
}
